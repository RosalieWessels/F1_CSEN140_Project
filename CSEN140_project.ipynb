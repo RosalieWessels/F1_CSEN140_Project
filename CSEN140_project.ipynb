{
 "cells": [
  {
   "cell_type": "markdown",
   "id": "8bb5a026-d0b0-4c06-9885-6afe0f932459",
   "metadata": {},
   "source": [
    "### Formula 1 Machine Learning Model\n",
    "\n",
    "** Please be sure to run `pip install fastf1` before running**\n"
   ]
  },
  {
   "cell_type": "code",
   "execution_count": 27,
   "id": "b7d34255-6703-4435-8ab2-3f01ec91d416",
   "metadata": {},
   "outputs": [
    {
     "name": "stderr",
     "output_type": "stream",
     "text": [
      "logger      WARNING \tFailed to load schedule from FastF1 backend!\n",
      "logger      WARNING \tFailed to load schedule from F1 API backend!\n",
      "logger      WARNING \tFailed to load schedule from Ergast API backend!\n"
     ]
    },
    {
     "ename": "ValueError",
     "evalue": "Failed to load any schedule data.",
     "output_type": "error",
     "traceback": [
      "\u001b[0;31m---------------------------------------------------------------------------\u001b[0m",
      "\u001b[0;31mValueError\u001b[0m                                Traceback (most recent call last)",
      "Cell \u001b[0;32mIn[27], line 11\u001b[0m\n\u001b[1;32m      8\u001b[0m fastf1\u001b[38;5;241m.\u001b[39mCache\u001b[38;5;241m.\u001b[39menable_cache(\u001b[38;5;124m'\u001b[39m\u001b[38;5;124mcache\u001b[39m\u001b[38;5;124m'\u001b[39m)\n\u001b[1;32m      9\u001b[0m fastf1\u001b[38;5;241m.\u001b[39mset_log_level(\u001b[38;5;124m'\u001b[39m\u001b[38;5;124mWARNING\u001b[39m\u001b[38;5;124m'\u001b[39m)\n\u001b[0;32m---> 11\u001b[0m events \u001b[38;5;241m=\u001b[39m \u001b[43mfastf1\u001b[49m\u001b[38;5;241;43m.\u001b[39;49m\u001b[43mget_event_schedule\u001b[49m\u001b[43m(\u001b[49m\u001b[38;5;241;43m2025\u001b[39;49m\u001b[43m,\u001b[49m\u001b[43m \u001b[49m\u001b[43minclude_testing\u001b[49m\u001b[38;5;241;43m=\u001b[39;49m\u001b[38;5;28;43;01mTrue\u001b[39;49;00m\u001b[43m)\u001b[49m\n\u001b[1;32m     13\u001b[0m \u001b[38;5;66;03m# Only include events where both qualifying and race have occurred\u001b[39;00m\n\u001b[1;32m     14\u001b[0m required_sessions \u001b[38;5;241m=\u001b[39m [\u001b[38;5;124m'\u001b[39m\u001b[38;5;124mSession4DateUtc\u001b[39m\u001b[38;5;124m'\u001b[39m, \u001b[38;5;124m'\u001b[39m\u001b[38;5;124mSession5DateUtc\u001b[39m\u001b[38;5;124m'\u001b[39m]\n",
      "File \u001b[0;32m~/.local/lib/python3.9/site-packages/fastf1/events.py:522\u001b[0m, in \u001b[0;36mget_event_schedule\u001b[0;34m(year, include_testing, backend, force_ergast)\u001b[0m\n\u001b[1;32m    519\u001b[0m         \u001b[38;5;28;01mbreak\u001b[39;00m\n\u001b[1;32m    521\u001b[0m \u001b[38;5;28;01mif\u001b[39;00m schedule \u001b[38;5;129;01mis\u001b[39;00m \u001b[38;5;28;01mNone\u001b[39;00m:  \u001b[38;5;66;03m# raise Error if fallback failed as well\u001b[39;00m\n\u001b[0;32m--> 522\u001b[0m     \u001b[38;5;28;01mraise\u001b[39;00m \u001b[38;5;167;01mValueError\u001b[39;00m(\u001b[38;5;124m\"\u001b[39m\u001b[38;5;124mFailed to load any schedule data.\u001b[39m\u001b[38;5;124m\"\u001b[39m)\n\u001b[1;32m    524\u001b[0m \u001b[38;5;28;01mif\u001b[39;00m \u001b[38;5;129;01mnot\u001b[39;00m include_testing:\n\u001b[1;32m    525\u001b[0m     schedule \u001b[38;5;241m=\u001b[39m schedule[\u001b[38;5;241m~\u001b[39mschedule\u001b[38;5;241m.\u001b[39mis_testing()]\n",
      "\u001b[0;31mValueError\u001b[0m: Failed to load any schedule data."
     ]
    }
   ],
   "source": [
    "import fastf1\n",
    "import pandas as pd\n",
    "from IPython.display import display\n",
    "from datetime import datetime, timezone\n",
    "\n",
    "now = datetime.now(timezone.utc)\n",
    "\n",
    "fastf1.Cache.enable_cache('cache')\n",
    "fastf1.set_log_level('WARNING')\n",
    "\n",
    "events = fastf1.get_event_schedule(2025, include_testing=True)\n",
    "\n",
    "# Only include events where both qualifying and race have occurred\n",
    "required_sessions = ['Session4DateUtc', 'Session5DateUtc']\n",
    "\n",
    "completed_events = []\n",
    "for _, event in events.iterrows():\n",
    "    all_sessions_happened = True\n",
    "    for session_key in required_sessions:\n",
    "        session_time = event.get(session_key)\n",
    "\n",
    "        if pd.isna(session_time):\n",
    "            all_sessions_happened = False\n",
    "            break\n",
    "\n",
    "        if session_time.tzinfo is None:\n",
    "            session_time = session_time.replace(tzinfo=timezone.utc)\n",
    "\n",
    "        if session_time >= now:\n",
    "            all_sessions_happened = False\n",
    "            break\n",
    "\n",
    "    if all_sessions_happened:\n",
    "        completed_events.append(event)\n",
    "\n",
    "df = pd.DataFrame(completed_events)\n",
    "\n",
    "# Pull Qualifying and Race Results\n",
    "combined_results = []\n",
    "\n",
    "for _, event in df.iterrows():\n",
    "    try:\n",
    "        # Load Qualifying\n",
    "        q_session = fastf1.get_session(2025, event['EventName'], 'Q')\n",
    "        q_session.load()\n",
    "        q_results = q_session.results[['Abbreviation', 'Position', 'Q1', 'Q2', 'Q3']].copy()\n",
    "        q_results.rename(columns={\n",
    "            'Position': 'QualiPosition',\n",
    "            'Q1': 'QualiQ1',\n",
    "            'Q2': 'QualiQ2',\n",
    "            'Q3': 'QualiQ3'\n",
    "        }, inplace=True)\n",
    "\n",
    "        # Load Race\n",
    "        r_session = fastf1.get_session(2025, event['EventName'], 'R')\n",
    "        r_session.load()\n",
    "        r_results = r_session.results[['Abbreviation', 'Position', 'GridPosition', 'Time', 'Status', 'Points']].copy()\n",
    "        r_results.rename(columns={'Position': 'RacePosition'}, inplace=True)\n",
    "        r_results.rename(columns={'Time': 'RaceTime'}, inplace=True)\n",
    "\n",
    "        # Merge\n",
    "        merged = pd.merge(q_results, r_results, on='Abbreviation', how='inner')\n",
    "        merged['EventName'] = event['EventName']\n",
    "        combined_results.append(merged)\n",
    "    except Exception as e:\n",
    "        print(f\"Failed to pull {event['EventName']} data: {e}\")\n",
    "\n",
    "# Combine events\n",
    "if combined_results:\n",
    "    final_df = pd.concat(combined_results, ignore_index=True)\n",
    "    display(final_df[['EventName', 'Abbreviation', 'QualiPosition', 'QualiQ1', 'QualiQ2', 'QualiQ3',\n",
    "                      'RacePosition', 'GridPosition', 'RaceTime', 'Status', 'Points']].sort_values(by=['EventName', 'QualiPosition']))\n",
    "else:\n",
    "    print(\"No qualifying and race results could be combined.\")"
   ]
  },
  {
   "cell_type": "code",
   "execution_count": null,
   "id": "ec6647f2-ec36-419e-b2bc-925cbdd5d321",
   "metadata": {},
   "outputs": [],
   "source": []
  }
 ],
 "metadata": {
  "kernelspec": {
   "display_name": "140wi25",
   "language": "python",
   "name": "140wi25"
  },
  "language_info": {
   "codemirror_mode": {
    "name": "ipython",
    "version": 3
   },
   "file_extension": ".py",
   "mimetype": "text/x-python",
   "name": "python",
   "nbconvert_exporter": "python",
   "pygments_lexer": "ipython3",
   "version": "3.9.21"
  }
 },
 "nbformat": 4,
 "nbformat_minor": 5
}
